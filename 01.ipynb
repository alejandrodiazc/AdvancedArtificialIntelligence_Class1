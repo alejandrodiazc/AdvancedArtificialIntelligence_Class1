{
  "nbformat": 4,
  "nbformat_minor": 0,
  "metadata": {
    "colab": {
      "name": "01.ipynb",
      "provenance": [],
      "authorship_tag": "ABX9TyNNctsg4mprI0MPjbsVYXDC",
      "include_colab_link": true
    },
    "kernelspec": {
      "name": "python3",
      "display_name": "Python 3"
    },
    "language_info": {
      "name": "python"
    }
  },
  "cells": [
    {
      "cell_type": "markdown",
      "metadata": {
        "id": "view-in-github",
        "colab_type": "text"
      },
      "source": [
        "<a href=\"https://colab.research.google.com/github/alejandrodiazc/AdvancedArtificialIntelligence_Class1/blob/Testing_Branch/01.ipynb\" target=\"_parent\"><img src=\"https://colab.research.google.com/assets/colab-badge.svg\" alt=\"Open In Colab\"/></a>"
      ]
    },
    {
      "cell_type": "code",
      "execution_count": 1,
      "metadata": {
        "id": "oZ03v7fxKOfK",
        "colab": {
          "base_uri": "https://localhost:8080/"
        },
        "outputId": "05621f69-d1d7-4eca-d74f-f2a7e895206a"
      },
      "outputs": [
        {
          "output_type": "stream",
          "name": "stdout",
          "text": [
            "Primer mensaje\n"
          ]
        }
      ],
      "source": [
        "print('Primer mensaje')"
      ]
    },
    {
      "cell_type": "code",
      "source": [
        "print('Estoy en Testing Branch')"
      ],
      "metadata": {
        "id": "ZTvJOZa_NaoZ",
        "outputId": "e9b31889-4534-42b2-f32b-b8132331bbc9",
        "colab": {
          "base_uri": "https://localhost:8080/"
        }
      },
      "execution_count": 2,
      "outputs": [
        {
          "output_type": "stream",
          "name": "stdout",
          "text": [
            "Estoy en Testing Branch\n"
          ]
        }
      ]
    }
  ]
}